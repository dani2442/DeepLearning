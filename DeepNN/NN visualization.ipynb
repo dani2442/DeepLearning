{
 "cells": [
  {
   "cell_type": "code",
   "execution_count": 1,
   "metadata": {},
   "outputs": [],
   "source": [
    "import numpy as np\n",
    "from sklearn import datasets\n",
    "import matplotlib.pyplot as plt\n",
    "# pip install keras                       \n",
    "from keras.datasets import mnist"
   ]
  },
  {
   "cell_type": "code",
   "execution_count": 37,
   "metadata": {},
   "outputs": [],
   "source": [
    "def ConvertData(Y):\n",
    "    Y_=[]\n",
    "    for i in range(len(Y)):\n",
    "        A=np.zeros((10))\n",
    "        A[Y[i]]=1.0\n",
    "        Y_+=[A]\n",
    "    return np.array(Y_).T\n",
    "\n",
    "(train_X, train_Y), (test_X, test_Y) = mnist.load_data()\n",
    "\n",
    "X1=train_X.reshape(60000,28*28).T/255\n",
    "Y1=ConvertData(train_Y)"
   ]
  },
  {
   "cell_type": "code",
   "execution_count": 39,
   "metadata": {},
   "outputs": [
    {
     "data": {
      "text/plain": [
       "<matplotlib.image.AxesImage at 0x1c2a0d78ac0>"
      ]
     },
     "execution_count": 39,
     "metadata": {},
     "output_type": "execute_result"
    },
    {
     "data": {
      "image/png": "[encoded data removed]",
      "text/plain": [
       "<Figure size 432x288 with 1 Axes>"
      ]
     },
     "metadata": {
      "needs_background": "light"
     },
     "output_type": "display_data"
    }
   ],
   "source": [
    "plt.imshow(X1[:,0].reshape(28,28))"
   ]
  },
  {
   "cell_type": "code",
   "execution_count": 40,
   "metadata": {},
   "outputs": [],
   "source": [
    "from NeuralNetwork import *"
   ]
  },
  {
   "cell_type": "code",
   "execution_count": 48,
   "metadata": {},
   "outputs": [
    {
     "name": "stdout",
     "output_type": "stream",
     "text": [
      "0.5110320160236648\n",
      "0.4487828496258538\n",
      "0.4473134318016795\n",
      "0.4460611285238342\n",
      "0.4446932482725517\n",
      "0.4431464934436432\n",
      "0.4414199554644927\n",
      "0.4395443531347331\n",
      "0.43755103419924846\n",
      "0.4354372523230952\n"
     ]
    }
   ],
   "source": [
    "NN=NeuralNetwork(28*28,10)\n",
    "NN.AddLayer(Plain(28*28,20,Sigmoid))\n",
    "NN.AddLayer(Plain(20,10,Sigmoid))\n",
    "NN.AddLayer(Plain(10,2,ReLU))\n",
    "NN.AddLayer(Plain(2,5,Sigmoid))\n",
    "NN.AddLayer(Plain(5,10,Sigmoid))\n",
    "NN.Train(X1,Y1,10,5,Momentum(0.001,0.2))"
   ]
  },
  {
   "cell_type": "code",
   "execution_count": 68,
   "metadata": {},
   "outputs": [
    {
     "name": "stdout",
     "output_type": "stream",
     "text": [
      "0.0916982980138479\n",
      "0.09134633520788797\n",
      "0.09102724448744114\n",
      "0.091787433744866\n",
      "0.09051430565784226\n",
      "0.08971329023110627\n",
      "0.08987897316679136\n",
      "0.09070240527083782\n",
      "0.08945882915691569\n",
      "0.08932391143417123\n",
      "0.08899229424017174\n",
      "0.08915535873566\n",
      "0.0883575942886198\n",
      "0.0878453592379705\n",
      "0.08811860296039722\n",
      "0.08776993192878713\n",
      "0.08724303533987701\n",
      "0.08754892124696816\n",
      "0.08689099567998729\n",
      "0.08622327252439528\n",
      "0.08675987264409547\n",
      "0.08716718293115824\n",
      "0.08618804975766019\n",
      "0.08635929820231182\n",
      "0.08561460134439111\n",
      "0.08561604558738159\n",
      "0.08541669041996669\n",
      "0.08487819059926101\n",
      "0.08527908701189822\n",
      "0.08429953249951677\n",
      "0.08439000056353786\n",
      "0.08370676318586578\n",
      "0.08417934032807681\n",
      "0.0836685396795125\n",
      "0.08431706806739407\n",
      "0.08301269707156772\n",
      "0.08322031951476343\n",
      "0.08252121795863399\n",
      "0.08226384751369037\n",
      "0.08209865030147669\n",
      "0.08215248727107184\n",
      "0.08169962582769352\n",
      "0.08180063536276891\n",
      "0.08178544050438392\n",
      "0.08099644763130746\n",
      "0.0806177411832992\n",
      "0.08100828295963496\n",
      "0.08083751533867235\n",
      "0.08164477533500294\n",
      "0.07989835604217181\n"
     ]
    }
   ],
   "source": [
    "NN.Train(X1,Y1,50,20,Momentum(0.01,0.1))"
   ]
  },
  {
   "cell_type": "code",
   "execution_count": 71,
   "metadata": {},
   "outputs": [
    {
     "data": {
      "text/plain": [
       "<matplotlib.collections.PathCollection at 0x1c2a119f790>"
      ]
     },
     "execution_count": 71,
     "metadata": {},
     "output_type": "execute_result"
    },
    {
     "data": {
      "image/png": "[encoded data removed]",
      "text/plain": [
       "<Figure size 432x288 with 1 Axes>"
      ]
     },
     "metadata": {
      "needs_background": "light"
     },
     "output_type": "display_data"
    }
   ],
   "source": [
    "NN.Forward(X1)\n",
    "H=NN.layers[2].O\n",
    "plt.scatter(H[0,:100],H[1,:100],c=train_Y[:100] )"
   ]
  },
  {
   "cell_type": "code",
   "execution_count": 47,
   "metadata": {},
   "outputs": [
    {
     "data": {
      "text/plain": [
       "(2, 60000)"
      ]
     },
     "execution_count": 47,
     "metadata": {},
     "output_type": "execute_result"
    }
   ],
   "source": [
    "H.shape"
   ]
  },
  {
   "cell_type": "code",
   "execution_count": null,
   "metadata": {},
   "outputs": [],
   "source": []
  }
 ],
 "metadata": {
  "kernelspec": {
   "display_name": "Python 3",
   "language": "python",
   "name": "python3"
  },
  "language_info": {
   "codemirror_mode": {
    "name": "ipython",
    "version": 3
   },
   "file_extension": ".py",
   "mimetype": "text/x-python",
   "name": "python",
   "nbconvert_exporter": "python",
   "pygments_lexer": "ipython3",
   "version": "3.8.5"
  }
 },
 "nbformat": 4,
 "nbformat_minor": 4
}

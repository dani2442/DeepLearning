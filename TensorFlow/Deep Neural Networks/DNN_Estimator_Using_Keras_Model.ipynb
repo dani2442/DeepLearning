{
  "nbformat": 4,
  "nbformat_minor": 0,
  "metadata": {
    "colab": {
      "name": "Copia de Estimator_Using_Keras_Model.ipynb",
      "private_outputs": true,
      "provenance": [],
      "collapsed_sections": [],
      "include_colab_link": true
    },
    "kernelspec": {
      "name": "python3",
      "display_name": "Python 3"
    },
    "accelerator": "GPU"
  },
  "cells": [
    {
      "cell_type": "markdown",
      "metadata": {
        "id": "view-in-github",
        "colab_type": "text"
      },
      "source": [
        "<a href=\"https://colab.research.google.com/github/dani2442/DeepLearning/blob/master/Copia_de_Estimator_Using_Keras_Model.ipynb\" target=\"_parent\"><img src=\"https://colab.research.google.com/assets/colab-badge.svg\" alt=\"Open In Colab\"/></a>"
      ]
    },
    {
      "cell_type": "code",
      "metadata": {
        "id": "moB4tpEHxKB3"
      },
      "source": [
        "# Use seaborn for pairplot\n",
        "!pip install seaborn"
      ],
      "execution_count": null,
      "outputs": []
    },
    {
      "cell_type": "code",
      "metadata": {
        "id": "1rRo8oNqZ-Rj"
      },
      "source": [
        "try:\n",
        "  %tensorflow_version 2.x\n",
        "except Exception:\n",
        "  pass"
      ],
      "execution_count": null,
      "outputs": []
    },
    {
      "cell_type": "markdown",
      "metadata": {
        "id": "1Z208sQ-d2_x"
      },
      "source": [
        "## Import the required Modules"
      ]
    },
    {
      "cell_type": "code",
      "metadata": {
        "id": "4YT4KWH2bEh5"
      },
      "source": [
        "from __future__ import absolute_import, division, print_function, unicode_literals\n",
        "import numpy as np\n",
        "import pandas as pd\n",
        "import tensorflow as tf\n",
        "from tensorflow import keras as ks\n",
        "import tensorflow_datasets as tf_ds\n",
        "\n",
        "print(tf.__version__)"
      ],
      "execution_count": null,
      "outputs": []
    },
    {
      "cell_type": "code",
      "metadata": {
        "id": "aYjgPOBtTW4-"
      },
      "source": [
        "def data_input():\n",
        "  train_test_split = tf_ds.Split.TRAIN\n",
        "  iris_dataset = tf_ds.load('iris', split=train_test_split, as_supervised=True)\n",
        "  iris_dataset = iris_dataset.map(lambda features, labels: ({'dense_input':features}, labels))\n",
        "  iris_dataset = iris_dataset.batch(32).repeat()\n",
        "  return iris_dataset"
      ],
      "execution_count": null,
      "outputs": []
    },
    {
      "cell_type": "code",
      "metadata": {
        "id": "XRvTyCrYS5j1"
      },
      "source": [
        "activation_function = 'relu'\n",
        "input_shape = (4,)\n",
        "dropout = 0.2\n",
        "output_activation_function = 'sigmoid'\n",
        "\n",
        "keras_model = ks.models.Sequential([ks.layers.Dense(16, activation=activation_function, input_shape=input_shape), ks.layers.Dropout(dropout), ks.layers.Dense(1, activation=output_activation_function)])"
      ],
      "execution_count": null,
      "outputs": []
    },
    {
      "cell_type": "code",
      "metadata": {
        "id": "Z4WtfkV9UbQ9"
      },
      "source": [
        "loss_function = 'categorical_crossentropy'\n",
        "optimizer = 'adam'\n",
        "\n",
        "keras_model.compile(loss=loss_function, optimizer=optimizer)\n",
        "keras_model.summary()"
      ],
      "execution_count": null,
      "outputs": []
    },
    {
      "cell_type": "code",
      "metadata": {
        "id": "Z6OefJssUlA2"
      },
      "source": [
        "model_path = \"/keras_estimator/\"\n",
        "estimator_keras_model = ks.estimator.model_to_estimator(keras_model=keras_model, model_dir=model_path)"
      ],
      "execution_count": null,
      "outputs": []
    },
    {
      "cell_type": "code",
      "metadata": {
        "id": "1cpgJsI-U5u4"
      },
      "source": [
        "estimator_keras_model.train(input_fn=data_input, steps=25)\n",
        "evaluation_result = estimator_keras_model.evaluate(input_fn=data_input, steps=10)\n",
        "print('Fianl evaluation result: {}'.format(evaluation_result))"
      ],
      "execution_count": null,
      "outputs": []
    }
  ]
}
